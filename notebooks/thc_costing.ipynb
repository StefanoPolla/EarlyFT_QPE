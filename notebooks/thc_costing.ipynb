{
 "cells": [
  {
   "cell_type": "code",
   "execution_count": null,
   "metadata": {},
   "outputs": [],
   "source": [
    "import matplotlib.pyplot as plt\n",
    "import numpy as np\n",
    "from qualtran.drawing import show_bloq, show_call_graph\n",
    "from tqdm.notebook import tqdm\n",
    "\n",
    "from eftqpe.physical_costing import multicircuit_physical_cost, thc\n",
    "from eftqpe.utils import make_decreasing_function\n",
    "\n",
    "plt.style.use(\"figstyle.mplstyle\")"
   ]
  },
  {
   "cell_type": "markdown",
   "metadata": {},
   "source": [
    "## construct the walk operator"
   ]
  },
  {
   "cell_type": "code",
   "execution_count": null,
   "metadata": {},
   "outputs": [],
   "source": [
    "ctrl_walk, lambda_thc = thc.walk_and_lambda_from_file(\"data/thc/h2o_thc_6_4_4_30.npz\")"
   ]
  },
  {
   "cell_type": "code",
   "execution_count": null,
   "metadata": {},
   "outputs": [],
   "source": [
    "show_bloq(ctrl_walk.decompose_bloq())"
   ]
  },
  {
   "cell_type": "markdown",
   "metadata": {},
   "source": [
    "## build the call graph"
   ]
  },
  {
   "cell_type": "code",
   "execution_count": null,
   "metadata": {},
   "outputs": [],
   "source": [
    "g, sigma = thc.walk_call_graph(ctrl_walk)\n",
    "print(*sorted(f\"{str(k):30s}: {v}\" for k, v in sigma.items()), sep=\"\\n\")"
   ]
  },
  {
   "cell_type": "code",
   "execution_count": null,
   "metadata": {},
   "outputs": [],
   "source": [
    "show_call_graph(g)"
   ]
  },
  {
   "cell_type": "markdown",
   "metadata": {},
   "source": [
    "## count logical resources"
   ]
  },
  {
   "cell_type": "code",
   "execution_count": null,
   "metadata": {},
   "outputs": [],
   "source": [
    "# count the magic\n",
    "\n",
    "magic_per_walk = thc.magic_from_sigma(sigma)\n",
    "print(magic_per_walk)"
   ]
  },
  {
   "cell_type": "code",
   "execution_count": null,
   "metadata": {},
   "outputs": [],
   "source": [
    "# count the number of qubits\n",
    "\n",
    "from qualtran.resource_counting import QubitCount, get_cost_value\n",
    "\n",
    "total_qubits = get_cost_value(ctrl_walk, QubitCount())\n",
    "print(total_qubits)"
   ]
  },
  {
   "cell_type": "markdown",
   "metadata": {},
   "source": [
    "## Cost estimates"
   ]
  },
  {
   "cell_type": "code",
   "execution_count": null,
   "metadata": {},
   "outputs": [],
   "source": [
    "lambda_thc, total_qubits, magic_per_walk"
   ]
  },
  {
   "cell_type": "code",
   "execution_count": null,
   "metadata": {},
   "outputs": [],
   "source": [
    "delta_e = 1e-3\n",
    "epsilon = delta_e / lambda_thc\n",
    "gamma = 1e-6\n",
    "n_factories = 1\n",
    "\n",
    "multicircuit_physical_cost(\n",
    "    epsilon, gamma, magic_per_walk, total_qubits, n_factories=n_factories\n",
    ")"
   ]
  },
  {
   "cell_type": "code",
   "execution_count": null,
   "metadata": {},
   "outputs": [],
   "source": [
    "# TODO: switch to dataframe, suppporting multiple input files, and save results\n",
    "\n",
    "gamma_list = np.logspace(-8, -1, 10)\n",
    "n_factories = 1\n",
    "\n",
    "ttot_hr_list = np.zeros_like(gamma_list)\n",
    "tmax_hr_list = np.zeros_like(gamma_list)\n",
    "footprint_list = np.zeros_like(gamma_list)\n",
    "\n",
    "for j, gamma in enumerate(tqdm(gamma_list)):\n",
    "    cost = multicircuit_physical_cost(\n",
    "        epsilon=delta_e / lambda_thc,\n",
    "        gamma=gamma,\n",
    "        magic_per_unitary=magic_per_walk,\n",
    "        n_algo_qubits=total_qubits,\n",
    "        n_factories=n_factories,\n",
    "    )\n",
    "    ttot_hr_list[j] = cost[\"t_tot_hr\"]\n",
    "    tmax_hr_list[j] = cost[\"t_max_hr\"]\n",
    "    footprint_list[j] = cost[\"physical_cost\"].footprint"
   ]
  },
  {
   "cell_type": "code",
   "execution_count": null,
   "metadata": {},
   "outputs": [],
   "source": [
    "fig, ax = plt.subplots(2, 1, figsize=(2*2, 2*3.5), sharex=True, gridspec_kw={'hspace': 0})\n",
    "ax[0].plot(gamma_list, ttot_hr_list, '-', label=r'$\\mathcal{T}_{\\mathrm{tot}}$')\n",
    "ax[0].plot(gamma_list, tmax_hr_list, '--', label=r'$\\mathcal{T}_{\\mathrm{max}}$')\n",
    "\n",
    "ax[1].plot(gamma_list, footprint_list, '.')\n",
    "\n",
    "ax[0].set_ylabel('runtime in hours')\n",
    "ax[1].set_ylabel(r'\\# physical qubits')\n",
    "ax[1].set_xlabel('$\\gamma$, error rate per walk step')\n",
    "\n",
    "ax[0].set_yscale('log')\n",
    "#ax[1].set_yscale('log')\n",
    "ax[1].set_xscale('log')"
   ]
  },
  {
   "cell_type": "code",
   "execution_count": null,
   "metadata": {},
   "outputs": [],
   "source": [
    "plt.plot(*make_decreasing_function(footprint_list, ttot_hr_list), 'o-')\n",
    "plt.axhline(24, color='black', linestyle='dashed')\n",
    "plt.text(2e5, 1.3*24, \"1 day\", va='bottom')\n",
    "plt.axhline(24*30, color='black', linestyle='dashed')\n",
    "plt.text(2e5, 0.9*24*30, \"1 month\", va='top')\n",
    "\n",
    "plt.xlabel(r\"\\# physical qubits\")\n",
    "plt.grid(axis=\"x\", which=\"minor\")\n",
    "plt.ylabel(\"runtime in hours\")\n",
    "plt.yscale(\"log\")\n",
    "plt.xscale(\"log\")"
   ]
  },
  {
   "cell_type": "code",
   "execution_count": null,
   "metadata": {},
   "outputs": [],
   "source": [
    "plt.plot(*make_decreasing_function(footprint_list, ttot_hr_list), 'o-')\n",
    "plt.axhline(24, color='black', linestyle='dashed')\n",
    "plt.text(2e5, 1.3*24, \"1 day\", va='bottom')\n",
    "plt.axhline(24*30, color='black', linestyle='dashed')\n",
    "plt.text(2e5, 0.9*24*30, \"1 month\", va='top')\n",
    "\n",
    "plt.xlabel(r\"\\# physical qubits\")\n",
    "plt.grid(axis=\"x\", which=\"minor\")\n",
    "plt.ylabel(\"runtime in hours\")\n",
    "plt.yscale(\"log\")\n",
    "plt.xscale(\"log\")"
   ]
  }
 ],
 "metadata": {
  "kernelspec": {
   "display_name": "Python 3",
   "language": "python",
   "name": "python3"
  },
  "language_info": {
   "codemirror_mode": {
    "name": "ipython",
    "version": 3
   },
   "file_extension": ".py",
   "mimetype": "text/x-python",
   "name": "python",
   "nbconvert_exporter": "python",
   "pygments_lexer": "ipython3",
   "version": "3.12.5"
  }
 },
 "nbformat": 4,
 "nbformat_minor": 2
}
